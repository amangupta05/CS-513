{
 "cells": [
  {
   "cell_type": "code",
   "execution_count": 1,
   "id": "0a3313d8",
   "metadata": {},
   "outputs": [],
   "source": [
    "import pandas as pd\n",
    "import numpy as np\n",
    "from sklearn.cluster import AgglomerativeClustering, KMeans\n",
    "import matplotlib.pyplot as plt"
   ]
  },
  {
   "cell_type": "code",
   "execution_count": 2,
   "id": "7c930b52",
   "metadata": {},
   "outputs": [
    {
     "data": {
      "text/html": [
       "<div>\n",
       "<style scoped>\n",
       "    .dataframe tbody tr th:only-of-type {\n",
       "        vertical-align: middle;\n",
       "    }\n",
       "\n",
       "    .dataframe tbody tr th {\n",
       "        vertical-align: top;\n",
       "    }\n",
       "\n",
       "    .dataframe thead th {\n",
       "        text-align: right;\n",
       "    }\n",
       "</style>\n",
       "<table border=\"1\" class=\"dataframe\">\n",
       "  <thead>\n",
       "    <tr style=\"text-align: right;\">\n",
       "      <th></th>\n",
       "      <th>Transportation_expense</th>\n",
       "      <th>Distance_from_Residence_to_Work</th>\n",
       "      <th>Age</th>\n",
       "      <th>Abs_cat</th>\n",
       "    </tr>\n",
       "  </thead>\n",
       "  <tbody>\n",
       "    <tr>\n",
       "      <th>0</th>\n",
       "      <td>289</td>\n",
       "      <td>36</td>\n",
       "      <td>33</td>\n",
       "      <td>Abs_Med</td>\n",
       "    </tr>\n",
       "    <tr>\n",
       "      <th>1</th>\n",
       "      <td>118</td>\n",
       "      <td>13</td>\n",
       "      <td>50</td>\n",
       "      <td>Abs_low</td>\n",
       "    </tr>\n",
       "    <tr>\n",
       "      <th>2</th>\n",
       "      <td>179</td>\n",
       "      <td>51</td>\n",
       "      <td>38</td>\n",
       "      <td>Abs_low</td>\n",
       "    </tr>\n",
       "    <tr>\n",
       "      <th>3</th>\n",
       "      <td>279</td>\n",
       "      <td>5</td>\n",
       "      <td>39</td>\n",
       "      <td>Abs_Med</td>\n",
       "    </tr>\n",
       "    <tr>\n",
       "      <th>4</th>\n",
       "      <td>289</td>\n",
       "      <td>36</td>\n",
       "      <td>33</td>\n",
       "      <td>Abs_low</td>\n",
       "    </tr>\n",
       "    <tr>\n",
       "      <th>...</th>\n",
       "      <td>...</td>\n",
       "      <td>...</td>\n",
       "      <td>...</td>\n",
       "      <td>...</td>\n",
       "    </tr>\n",
       "    <tr>\n",
       "      <th>735</th>\n",
       "      <td>289</td>\n",
       "      <td>36</td>\n",
       "      <td>33</td>\n",
       "      <td>Abs_High</td>\n",
       "    </tr>\n",
       "    <tr>\n",
       "      <th>736</th>\n",
       "      <td>235</td>\n",
       "      <td>11</td>\n",
       "      <td>37</td>\n",
       "      <td>Abs_Med</td>\n",
       "    </tr>\n",
       "    <tr>\n",
       "      <th>737</th>\n",
       "      <td>118</td>\n",
       "      <td>14</td>\n",
       "      <td>40</td>\n",
       "      <td>Abs_low</td>\n",
       "    </tr>\n",
       "    <tr>\n",
       "      <th>738</th>\n",
       "      <td>231</td>\n",
       "      <td>35</td>\n",
       "      <td>39</td>\n",
       "      <td>Abs_low</td>\n",
       "    </tr>\n",
       "    <tr>\n",
       "      <th>739</th>\n",
       "      <td>179</td>\n",
       "      <td>45</td>\n",
       "      <td>53</td>\n",
       "      <td>Abs_low</td>\n",
       "    </tr>\n",
       "  </tbody>\n",
       "</table>\n",
       "<p>740 rows × 4 columns</p>\n",
       "</div>"
      ],
      "text/plain": [
       "     Transportation_expense  Distance_from_Residence_to_Work  Age   Abs_cat\n",
       "0                       289                               36   33   Abs_Med\n",
       "1                       118                               13   50   Abs_low\n",
       "2                       179                               51   38   Abs_low\n",
       "3                       279                                5   39   Abs_Med\n",
       "4                       289                               36   33   Abs_low\n",
       "..                      ...                              ...  ...       ...\n",
       "735                     289                               36   33  Abs_High\n",
       "736                     235                               11   37   Abs_Med\n",
       "737                     118                               14   40   Abs_low\n",
       "738                     231                               35   39   Abs_low\n",
       "739                     179                               45   53   Abs_low\n",
       "\n",
       "[740 rows x 4 columns]"
      ]
     },
     "execution_count": 2,
     "metadata": {},
     "output_type": "execute_result"
    }
   ],
   "source": [
    "# Load the dataset\n",
    "df = pd.read_csv('absenteeism_0.csv')\n",
    "df"
   ]
  },
  {
   "cell_type": "code",
   "execution_count": 3,
   "id": "13a5c25d",
   "metadata": {},
   "outputs": [],
   "source": [
    "# Drop any rows with missing values\n",
    "df.dropna(inplace=True)"
   ]
  },
  {
   "cell_type": "code",
   "execution_count": 4,
   "id": "186ff8cf",
   "metadata": {},
   "outputs": [],
   "source": [
    "# Remove the \"Abs_cat\" column from the dataset\n",
    "X = df.drop(columns=['Abs_cat'])"
   ]
  },
  {
   "cell_type": "code",
   "execution_count": 5,
   "id": "f48e4477",
   "metadata": {},
   "outputs": [],
   "source": [
    "# Perform hierarchical clustering\n",
    "agg_clustering = AgglomerativeClustering(n_clusters=3, linkage='ward').fit(X)"
   ]
  },
  {
   "cell_type": "code",
   "execution_count": 6,
   "id": "5622ae02",
   "metadata": {},
   "outputs": [],
   "source": [
    "# Perform K-means clustering\n",
    "kmeans_clustering = KMeans(n_clusters=3, random_state=0).fit(X)"
   ]
  },
  {
   "cell_type": "code",
   "execution_count": 7,
   "id": "e000423b",
   "metadata": {},
   "outputs": [],
   "source": [
    "# Add the cluster labels to the original dataset\n",
    "df['Cluster_agg'] = agg_clustering.labels_\n",
    "df['Cluster_kmeans'] = kmeans_clustering.labels_"
   ]
  },
  {
   "cell_type": "code",
   "execution_count": 8,
   "id": "c472be4d",
   "metadata": {},
   "outputs": [
    {
     "name": "stdout",
     "output_type": "stream",
     "text": [
      "   Transportation_expense  Distance_from_Residence_to_Work  Age  Abs_cat  \\\n",
      "0                     289                               36   33  Abs_Med   \n",
      "1                     118                               13   50  Abs_low   \n",
      "2                     179                               51   38  Abs_low   \n",
      "3                     279                                5   39  Abs_Med   \n",
      "4                     289                               36   33  Abs_low   \n",
      "\n",
      "   Cluster_agg  Cluster_kmeans  \n",
      "0            1               1  \n",
      "1            0               0  \n",
      "2            0               0  \n",
      "3            1               1  \n",
      "4            1               1  \n"
     ]
    }
   ],
   "source": [
    "# Print the first few rows of the dataset with the cluster labels\n",
    "print(df.head())"
   ]
  },
  {
   "cell_type": "code",
   "execution_count": 9,
   "id": "30d815d4",
   "metadata": {},
   "outputs": [
    {
     "data": {
      "image/png": "[encoded data removed]",
      "text/plain": [
       "<Figure size 1000x500 with 2 Axes>"
      ]
     },
     "metadata": {},
     "output_type": "display_data"
    }
   ],
   "source": [
    "# Plot the clusters against the original \"Abs_cat\" variable\n",
    "fig, axs = plt.subplots(1, 2, figsize=(10,5))\n",
    "axs[0].scatter(df['Cluster_agg'], df['Abs_cat'])\n",
    "axs[0].set_xlabel('Agglomerative Clustering')\n",
    "axs[0].set_ylabel('Abs_cat')\n",
    "axs[1].scatter(df['Cluster_kmeans'], df['Abs_cat'])\n",
    "axs[1].set_xlabel('K-means Clustering')\n",
    "axs[1].set_ylabel('Abs_cat')\n",
    "plt.show()"
   ]
  },
  {
   "cell_type": "code",
   "execution_count": 10,
   "id": "a666ada7",
   "metadata": {},
   "outputs": [
    {
     "name": "stdout",
     "output_type": "stream",
     "text": [
      "Centroids:\n",
      "   Transportation_expense  Distance_from_Residence_to_Work        Age\n",
      "0              159.349845                        29.544892  37.263158\n",
      "1              252.555556                        29.025641  36.792023\n",
      "2              358.590909                        33.272727  30.651515\n"
     ]
    }
   ],
   "source": [
    "# Calculate the centroids of each K-means cluster\n",
    "centroids = kmeans_clustering.cluster_centers_\n",
    "print(\"Centroids:\")\n",
    "print(pd.DataFrame(centroids, columns=X.columns))"
   ]
  },
  {
   "cell_type": "code",
   "execution_count": null,
   "id": "f31959e4",
   "metadata": {},
   "outputs": [],
   "source": []
  }
 ],
 "metadata": {
  "kernelspec": {
   "display_name": "Python 3 (ipykernel)",
   "language": "python",
   "name": "python3"
  },
  "language_info": {
   "codemirror_mode": {
    "name": "ipython",
    "version": 3
   },
   "file_extension": ".py",
   "mimetype": "text/x-python",
   "name": "python",
   "nbconvert_exporter": "python",
   "pygments_lexer": "ipython3",
   "version": "3.10.9"
  }
 },
 "nbformat": 4,
 "nbformat_minor": 5
}
